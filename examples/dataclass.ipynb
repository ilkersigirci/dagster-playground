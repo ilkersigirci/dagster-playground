{
 "cells": [
  {
   "cell_type": "code",
   "execution_count": 25,
   "metadata": {},
   "outputs": [
    {
     "name": "stdout",
     "output_type": "stream",
     "text": [
      "The autoreload extension is already loaded. To reload it, use:\n",
      "  %reload_ext autoreload\n"
     ]
    }
   ],
   "source": [
    "%load_ext autoreload\n",
    "%autoreload 2"
   ]
  },
  {
   "cell_type": "code",
   "execution_count": 26,
   "metadata": {},
   "outputs": [],
   "source": [
    "from pydantic.dataclasses import dataclass\n",
    "from dagster_playground.utils.utils import get_dataclass_asdict"
   ]
  },
  {
   "cell_type": "code",
   "execution_count": 27,
   "metadata": {},
   "outputs": [],
   "source": [
    "@dataclass\n",
    "class MyConfig:\n",
    "    int_param: int = 2\n",
    "    str_param: str = \"dataclass_stuff\"\n",
    "    bool_param: bool = True"
   ]
  },
  {
   "cell_type": "code",
   "execution_count": 28,
   "metadata": {},
   "outputs": [
    {
     "data": {
      "text/plain": [
       "{'int_param': 2, 'str_param': 'dataclass_stuff', 'bool_param': True}"
      ]
     },
     "execution_count": 28,
     "metadata": {},
     "output_type": "execute_result"
    }
   ],
   "source": [
    "conf = MyConfig()\n",
    "asdict(conf)"
   ]
  },
  {
   "cell_type": "code",
   "execution_count": 29,
   "metadata": {},
   "outputs": [],
   "source": [
    "selected_fields = None\n",
    "# selected_fields = [\"int_param\"]"
   ]
  },
  {
   "cell_type": "code",
   "execution_count": 30,
   "metadata": {},
   "outputs": [
    {
     "data": {
      "text/plain": [
       "{'int_param': (int, 2),\n",
       " 'str_param': (str, 'dataclass_stuff'),\n",
       " 'bool_param': (bool, True)}"
      ]
     },
     "execution_count": 30,
     "metadata": {},
     "output_type": "execute_result"
    }
   ],
   "source": [
    "get_dataclass_asdict(MyConfig, return_default=True, selected_fields=selected_fields)"
   ]
  },
  {
   "cell_type": "code",
   "execution_count": 31,
   "metadata": {},
   "outputs": [
    {
     "data": {
      "text/plain": [
       "{'int_param': int, 'str_param': str, 'bool_param': bool}"
      ]
     },
     "execution_count": 31,
     "metadata": {},
     "output_type": "execute_result"
    }
   ],
   "source": [
    "get_dataclass_asdict(MyConfig, return_default=False, selected_fields=selected_fields)"
   ]
  }
 ],
 "metadata": {
  "kernelspec": {
   "display_name": "dagster-playground",
   "language": "python",
   "name": "python3"
  },
  "language_info": {
   "codemirror_mode": {
    "name": "ipython",
    "version": 3
   },
   "file_extension": ".py",
   "mimetype": "text/x-python",
   "name": "python",
   "nbconvert_exporter": "python",
   "pygments_lexer": "ipython3",
   "version": "3.8.16"
  },
  "orig_nbformat": 4,
  "vscode": {
   "interpreter": {
    "hash": "132020d7bc77f4c21127f337fe1f84644e7d4399386fcc41bc59e239568dcd80"
   }
  }
 },
 "nbformat": 4,
 "nbformat_minor": 2
}
