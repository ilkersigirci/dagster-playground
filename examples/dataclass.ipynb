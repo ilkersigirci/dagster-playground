{
 "cells": [
  {
   "cell_type": "code",
   "execution_count": 3,
   "metadata": {},
   "outputs": [
    {
     "name": "stdout",
     "output_type": "stream",
     "text": [
      "The autoreload extension is already loaded. To reload it, use:\n",
      "  %reload_ext autoreload\n"
     ]
    }
   ],
   "source": [
    "%load_ext autoreload\n",
    "%autoreload 2"
   ]
  },
  {
   "cell_type": "code",
   "execution_count": 4,
   "metadata": {},
   "outputs": [],
   "source": [
    "from dataclasses import asdict\n",
    "from pydantic.dataclasses import dataclass\n",
    "from dagster_playground.utils.utils import (\n",
    "    get_dataclass_asdict,\n",
    "    get_function_param_names,\n",
    "    get_function_param_defaults,\n",
    "    get_function_param_types,\n",
    "    create_pydantic_class,\n",
    ")"
   ]
  },
  {
   "cell_type": "code",
   "execution_count": 5,
   "metadata": {},
   "outputs": [],
   "source": [
    "@dataclass\n",
    "class MyConfig:\n",
    "    int_param: int = 2\n",
    "    str_param: str = \"dataclass_stuff\"\n",
    "    bool_param: bool = True"
   ]
  },
  {
   "cell_type": "code",
   "execution_count": 19,
   "metadata": {},
   "outputs": [
    {
     "data": {
      "text/plain": [
       "{'int_param': 2, 'str_param': 'dataclass_stuff', 'bool_param': True}"
      ]
     },
     "execution_count": 19,
     "metadata": {},
     "output_type": "execute_result"
    }
   ],
   "source": [
    "conf = MyConfig()\n",
    "asdict(conf)"
   ]
  },
  {
   "cell_type": "code",
   "execution_count": 20,
   "metadata": {},
   "outputs": [],
   "source": [
    "selected_fields = None\n",
    "# selected_fields = [\"int_param\"]"
   ]
  },
  {
   "cell_type": "code",
   "execution_count": 21,
   "metadata": {},
   "outputs": [
    {
     "data": {
      "text/plain": [
       "{'int_param': (int, 2),\n",
       " 'str_param': (str, 'dataclass_stuff'),\n",
       " 'bool_param': (bool, True)}"
      ]
     },
     "execution_count": 21,
     "metadata": {},
     "output_type": "execute_result"
    }
   ],
   "source": [
    "get_dataclass_asdict(MyConfig, return_default=True, selected_fields=selected_fields)"
   ]
  },
  {
   "cell_type": "code",
   "execution_count": 22,
   "metadata": {},
   "outputs": [
    {
     "data": {
      "text/plain": [
       "{'int_param': int, 'str_param': str, 'bool_param': bool}"
      ]
     },
     "execution_count": 22,
     "metadata": {},
     "output_type": "execute_result"
    }
   ],
   "source": [
    "get_dataclass_asdict(MyConfig, return_default=False, selected_fields=selected_fields)"
   ]
  },
  {
   "cell_type": "code",
   "execution_count": 23,
   "metadata": {},
   "outputs": [
    {
     "data": {
      "text/plain": [
       "{'boosting_type': str,\n",
       " 'num_leaves': int,\n",
       " 'max_depth': int,\n",
       " 'learning_rate': float,\n",
       " 'n_estimators': int,\n",
       " 'subsample_for_bin': int,\n",
       " 'objective': typing.Union[str, typing.Callable, NoneType],\n",
       " 'class_weight': typing.Union[typing.Dict, str, NoneType],\n",
       " 'min_split_gain': float,\n",
       " 'min_child_weight': float,\n",
       " 'min_child_samples': int,\n",
       " 'subsample': float,\n",
       " 'subsample_freq': int,\n",
       " 'colsample_bytree': float,\n",
       " 'reg_alpha': float,\n",
       " 'reg_lambda': float,\n",
       " 'random_state': typing.Union[int, numpy.random.mtrand.RandomState, NoneType],\n",
       " 'n_jobs': int,\n",
       " 'silent': typing.Union[bool, str],\n",
       " 'importance_type': str}"
      ]
     },
     "execution_count": 23,
     "metadata": {},
     "output_type": "execute_result"
    }
   ],
   "source": [
    "from lightgbm import LGBMRegressor\n",
    "\n",
    "# get_function_param_names(LGBMRegressor.__init__)\n",
    "# get_function_param_defaults(LGBMRegressor.__init__)\n",
    "get_function_param_types(LGBMRegressor.__init__)"
   ]
  },
  {
   "attachments": {},
   "cell_type": "markdown",
   "metadata": {},
   "source": [
    "## Pydantic\n"
   ]
  },
  {
   "cell_type": "code",
   "execution_count": 4,
   "metadata": {},
   "outputs": [
    {
     "ename": "ValidationError",
     "evalue": "2 validation errors for PersonPydantic\nname\n  value is not a valid tuple (type=type_error.tuple)\nage\n  value is not a valid tuple (type=type_error.tuple)",
     "output_type": "error",
     "traceback": [
      "\u001b[0;31m---------------------------------------------------------------------------\u001b[0m",
      "\u001b[0;31mValidationError\u001b[0m                           Traceback (most recent call last)",
      "Cell \u001b[0;32mIn[4], line 11\u001b[0m\n\u001b[1;32m      9\u001b[0m \u001b[39m# Usage of the dynamically created Pydantic class\u001b[39;00m\n\u001b[1;32m     10\u001b[0m person_data \u001b[39m=\u001b[39m {\u001b[39m\"\u001b[39m\u001b[39mname\u001b[39m\u001b[39m\"\u001b[39m: \u001b[39m\"\u001b[39m\u001b[39mAlice\u001b[39m\u001b[39m\"\u001b[39m, \u001b[39m\"\u001b[39m\u001b[39mage\u001b[39m\u001b[39m\"\u001b[39m: \u001b[39m30\u001b[39m}\n\u001b[0;32m---> 11\u001b[0m person \u001b[39m=\u001b[39m PersonPydantic(\u001b[39m*\u001b[39;49m\u001b[39m*\u001b[39;49mperson_data)\n\u001b[1;32m     12\u001b[0m \u001b[39mprint\u001b[39m(person\u001b[39m.\u001b[39mname)  \u001b[39m# Output: Alice\u001b[39;00m\n\u001b[1;32m     13\u001b[0m \u001b[39mprint\u001b[39m(person\u001b[39m.\u001b[39mage)  \u001b[39m# Output: 30\u001b[39;00m\n",
      "File \u001b[0;32m~/Documents/MyRepos/dagster-playground/.venv/lib/python3.10/site-packages/pydantic/main.py:341\u001b[0m, in \u001b[0;36mpydantic.main.BaseModel.__init__\u001b[0;34m()\u001b[0m\n",
      "\u001b[0;31mValidationError\u001b[0m: 2 validation errors for PersonPydantic\nname\n  value is not a valid tuple (type=type_error.tuple)\nage\n  value is not a valid tuple (type=type_error.tuple)"
     ]
    }
   ],
   "source": [
    "class Person:\n",
    "    def __init__(self, name: str, age: int):\n",
    "        self.name = name\n",
    "        self.age = age\n",
    "\n",
    "\n",
    "# Create Pydantic class dynamically from Person class\n",
    "PersonPydantic = create_pydantic_class(\"PersonPydantic\", Person)\n",
    "\n",
    "# Usage of the dynamically created Pydantic class\n",
    "person_data = {\"name\": \"Alice\", \"age\": 30}\n",
    "person = PersonPydantic(**person_data)\n",
    "print(person.name)  # Output: Alice\n",
    "print(person.age)  # Output: 30"
   ]
  },
  {
   "cell_type": "code",
   "execution_count": null,
   "metadata": {},
   "outputs": [],
   "source": []
  }
 ],
 "metadata": {
  "kernelspec": {
   "display_name": "dagster-playground",
   "language": "python",
   "name": "python3"
  },
  "language_info": {
   "codemirror_mode": {
    "name": "ipython",
    "version": 3
   },
   "file_extension": ".py",
   "mimetype": "text/x-python",
   "name": "python",
   "nbconvert_exporter": "python",
   "pygments_lexer": "ipython3",
   "version": "3.10.11"
  },
  "orig_nbformat": 4,
  "vscode": {
   "interpreter": {
    "hash": "132020d7bc77f4c21127f337fe1f84644e7d4399386fcc41bc59e239568dcd80"
   }
  }
 },
 "nbformat": 4,
 "nbformat_minor": 2
}
