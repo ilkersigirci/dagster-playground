{
 "cells": [
  {
   "cell_type": "code",
   "execution_count": 16,
   "metadata": {},
   "outputs": [
    {
     "name": "stdout",
     "output_type": "stream",
     "text": [
      "The autoreload extension is already loaded. To reload it, use:\n",
      "  %reload_ext autoreload\n"
     ]
    }
   ],
   "source": [
    "%load_ext autoreload\n",
    "%autoreload 2"
   ]
  },
  {
   "cell_type": "code",
   "execution_count": 17,
   "metadata": {},
   "outputs": [],
   "source": [
    "from dataclasses import asdict\n",
    "from pydantic.dataclasses import dataclass\n",
    "from dagster_playground.utils.utils import get_dataclass_asdict, get_function_param_names, get_function_param_defaults, get_function_param_types"
   ]
  },
  {
   "cell_type": "code",
   "execution_count": 18,
   "metadata": {},
   "outputs": [],
   "source": [
    "@dataclass\n",
    "class MyConfig:\n",
    "    int_param: int = 2\n",
    "    str_param: str = \"dataclass_stuff\"\n",
    "    bool_param: bool = True"
   ]
  },
  {
   "cell_type": "code",
   "execution_count": 19,
   "metadata": {},
   "outputs": [
    {
     "data": {
      "text/plain": [
       "{'int_param': 2, 'str_param': 'dataclass_stuff', 'bool_param': True}"
      ]
     },
     "execution_count": 19,
     "metadata": {},
     "output_type": "execute_result"
    }
   ],
   "source": [
    "conf = MyConfig()\n",
    "asdict(conf)"
   ]
  },
  {
   "cell_type": "code",
   "execution_count": 20,
   "metadata": {},
   "outputs": [],
   "source": [
    "selected_fields = None\n",
    "# selected_fields = [\"int_param\"]"
   ]
  },
  {
   "cell_type": "code",
   "execution_count": 21,
   "metadata": {},
   "outputs": [
    {
     "data": {
      "text/plain": [
       "{'int_param': (int, 2),\n",
       " 'str_param': (str, 'dataclass_stuff'),\n",
       " 'bool_param': (bool, True)}"
      ]
     },
     "execution_count": 21,
     "metadata": {},
     "output_type": "execute_result"
    }
   ],
   "source": [
    "get_dataclass_asdict(MyConfig, return_default=True, selected_fields=selected_fields)"
   ]
  },
  {
   "cell_type": "code",
   "execution_count": 22,
   "metadata": {},
   "outputs": [
    {
     "data": {
      "text/plain": [
       "{'int_param': int, 'str_param': str, 'bool_param': bool}"
      ]
     },
     "execution_count": 22,
     "metadata": {},
     "output_type": "execute_result"
    }
   ],
   "source": [
    "get_dataclass_asdict(MyConfig, return_default=False, selected_fields=selected_fields)"
   ]
  },
  {
   "cell_type": "code",
   "execution_count": 23,
   "metadata": {},
   "outputs": [
    {
     "data": {
      "text/plain": [
       "{'boosting_type': str,\n",
       " 'num_leaves': int,\n",
       " 'max_depth': int,\n",
       " 'learning_rate': float,\n",
       " 'n_estimators': int,\n",
       " 'subsample_for_bin': int,\n",
       " 'objective': typing.Union[str, typing.Callable, NoneType],\n",
       " 'class_weight': typing.Union[typing.Dict, str, NoneType],\n",
       " 'min_split_gain': float,\n",
       " 'min_child_weight': float,\n",
       " 'min_child_samples': int,\n",
       " 'subsample': float,\n",
       " 'subsample_freq': int,\n",
       " 'colsample_bytree': float,\n",
       " 'reg_alpha': float,\n",
       " 'reg_lambda': float,\n",
       " 'random_state': typing.Union[int, numpy.random.mtrand.RandomState, NoneType],\n",
       " 'n_jobs': int,\n",
       " 'silent': typing.Union[bool, str],\n",
       " 'importance_type': str}"
      ]
     },
     "execution_count": 23,
     "metadata": {},
     "output_type": "execute_result"
    }
   ],
   "source": [
    "from lightgbm import LGBMRegressor\n",
    "\n",
    "# get_function_param_names(LGBMRegressor.__init__)\n",
    "# get_function_param_defaults(LGBMRegressor.__init__)\n",
    "get_function_param_types(LGBMRegressor.__init__)"
   ]
  }
 ],
 "metadata": {
  "kernelspec": {
   "display_name": "dagster-playground",
   "language": "python",
   "name": "python3"
  },
  "language_info": {
   "codemirror_mode": {
    "name": "ipython",
    "version": 3
   },
   "file_extension": ".py",
   "mimetype": "text/x-python",
   "name": "python",
   "nbconvert_exporter": "python",
   "pygments_lexer": "ipython3",
   "version": "3.10.9"
  },
  "orig_nbformat": 4,
  "vscode": {
   "interpreter": {
    "hash": "132020d7bc77f4c21127f337fe1f84644e7d4399386fcc41bc59e239568dcd80"
   }
  }
 },
 "nbformat": 4,
 "nbformat_minor": 2
}
